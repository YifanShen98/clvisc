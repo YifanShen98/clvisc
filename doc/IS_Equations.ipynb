{
 "cells": [
  {
   "cell_type": "markdown",
   "metadata": {},
   "source": [
    "# Calc the christoeffel terms in IS equations\n",
    "\n",
    "Author: LongGang Pang\n",
    "\n",
    "The IS equations reads,\n",
    "\n",
    "\\begin{equation}\n",
    "D\\pi^{\\langle \\mu \\nu \\rangle} = - \\frac{\\pi^{\\mu\\nu} - \\pi_{NS}^{\\mu\\nu}}{\\tau_{\\pi}} - \\frac{4}{3}\\pi^{\\mu\\nu}\\theta \\end{equation}\n",
    "\n",
    "\n",
    "Where $A^{\\langle \\mu \\nu \\rangle} = \\Delta^{\\mu\\nu\\alpha\\beta} A_{\\alpha \\beta}$ and $D \\equiv u^{\\lambda} \\partial_{;\\lambda}$ where the $\\partial_{;\\lambda}$ is the corviant differential. The expansion rate is $\\theta=\\partial_{;\\lambda}u^{\\lambda}$. None zero Christoeffel terms are $\\Gamma^{\\eta}_{\\eta\\tau}= \\Gamma^{\\eta}_{\\tau\\eta}= \\frac{1}{\\tau},\\ \\Gamma^{\\tau}_{\\eta\\eta}=\\tau$.\n",
    "\n",
    "$\\pi_{NS}^{\\mu\\nu} = \\eta_v \\sigma^{\\mu\\nu}$ where $\\sigma^{\\mu\\nu} = \\partial_{;}^{<\\mu}u^{\\nu>} = 2 \\Delta^{\\mu\\nu\\alpha\\beta}\\partial_{;\\alpha}u_{\\beta} $.\n",
    "\n",
    "\n",
    "The projectors used here are,\n",
    "\n",
    "\\begin{eqnarray}\n",
    "\\Delta^{\\mu\\nu} &=& g^{\\mu\\nu} - u^{\\mu} u^{\\nu} \\\\\n",
    "\\Delta^{\\mu\\nu\\alpha\\beta} &=& \\frac{1}{2}(\\Delta^{\\mu\\alpha} \\Delta^{\\nu\\beta} + \\Delta^{\\nu\\alpha} \\Delta^{\\mu\\beta}) - \\frac{1}{3}\\Delta^{\\mu\\alpha} \\Delta^{\\nu\\beta}\n",
    "\\end{eqnarray}\n",
    "\n",
    "\n",
    "The aim of this note is to use sympy to get all the christoeffel terms and move them to the right hand side.\n",
    "The upper equation is rewritten as,\n",
    "\n",
    "\n",
    "\\begin{eqnarray}\n",
    "\\Delta^{\\mu\\nu\\alpha\\beta} D \\pi_{\\alpha \\beta} &=& - \\frac{\\pi^{\\mu\\nu} - \\pi_{NS}^{\\mu\\nu}}{\\tau_{\\pi}} - \\frac{4}{3}\\pi^{\\mu\\nu}\\theta\\\\\n",
    "\\Delta^{\\mu\\nu\\alpha\\beta} u^{\\lambda}\\partial_{\\lambda}\\pi_{\\alpha \\beta} &=& f + u^{\\lambda}\\Delta^{\\mu\\nu\\alpha\\beta}(\\Gamma^{\\rho}_{\\alpha\\lambda}\\pi_{\\rho\\beta} - \\Gamma^{\\rho}_{\\beta\\lambda}\\pi_{\\alpha\\rho})\n",
    "\\end{eqnarray}\n",
    "\n",
    "\n",
    "The left hand side of the equation reads,\n",
    "\\begin{eqnarray}\n",
    "\\Delta^{\\mu\\nu\\alpha\\beta} D \\pi_{\\alpha \\beta} &=& \\left[ \\frac{1}{2}(\\Delta^{\\mu\\alpha} \\Delta^{\\nu\\beta} + \\Delta^{\\nu\\alpha} \\Delta^{\\mu\\beta}) - \\frac{1}{3}\\Delta^{\\mu\\alpha} \\Delta^{\\nu\\beta} \\right] D\\pi_{\\alpha \\beta} \\\\\n",
    "&=& \\frac{1}{2} \\Delta^{\\mu\\alpha} \\Delta^{\\nu\\beta} (D\\pi_{\\alpha \\beta} + D\\pi_{\\beta\\alpha}) - \\frac{1}{3}\\Delta^{\\mu\\nu} \\Delta^{\\alpha\\beta} D\\pi_{\\alpha \\beta} \\\\\n",
    "&=& \\Delta^{\\mu\\alpha} \\Delta^{\\nu\\beta} D\\pi_{\\alpha \\beta} - \\frac{1}{3}\\Delta^{\\mu\\nu} \\left( D(\\Delta^{\\alpha\\beta} \\pi_{\\alpha \\beta}) - \\pi_{\\alpha \\beta} D\\Delta^{\\alpha\\beta}\\right) \\\\\n",
    "&=& (g^{\\mu\\alpha} - u^{\\mu}u^{\\alpha})(D\\pi_{\\alpha}^{\\nu} + u^{\\nu}\\pi_{\\alpha\\beta}Du^{\\beta}) + \\frac{1}{3}\\Delta^{\\mu\\nu} \\pi_{\\alpha \\beta} D\\Delta^{\\alpha\\beta} \\\\\n",
    "&=& D\\pi^{\\mu\\nu} + u^{\\nu}\\pi^{\\mu\\beta} Du_{\\beta} + u^{\\mu} \\pi^{\\nu\\beta}Du_{\\beta} + 0 \\\\\n",
    "&=& D\\pi^{\\mu\\nu} + (u^{\\nu}\\pi^{\\mu\\beta} + u^{\\mu} \\pi^{\\nu\\beta})Du_{\\beta}\n",
    "\\end{eqnarray}\n",
    "where $Dg^{\\alpha\\beta}=0$.\n",
    "\n",
    "The IS equation can be rewritten as,\n",
    "\\begin{equation}\n",
    "D\\pi^{\\mu\\nu} = - \\frac{\\pi^{\\mu\\nu} - \\pi_{NS}^{\\mu\\nu}}{\\tau_{\\pi}} - \\frac{4}{3}\\pi^{\\mu\\nu}\\theta - g_{\\alpha\\beta}(u^{\\nu}\\pi^{\\mu\\beta} + u^{\\mu} \\pi^{\\nu\\beta})Du^{\\alpha}\n",
    "\\end{equation}\n",
    "where the left hand side can be expanded as,\n",
    "\n",
    "\\begin{eqnarray}\n",
    "D\\pi^{\\mu\\nu} &=& u^{\\lambda}\\partial_{;\\lambda}\\pi^{\\mu\\nu} \\\\\n",
    "&=& u^{\\lambda}\\left( \\partial_{\\lambda}\\pi^{\\mu\\nu} + \\Gamma^{\\mu}_{\\alpha\\lambda}\\pi^{\\alpha\\nu} + \\Gamma^{\\nu}_{\\alpha\\lambda}\\pi^{\\mu\\alpha}\\right) \\\\\n",
    "&=& u^{\\lambda}\\partial_{\\lambda}\\pi^{\\mu\\nu}  + u^{\\tau}\\left(\\Gamma^{\\mu}_{\\alpha\\tau}\\pi^{\\alpha\\nu} + \\Gamma^{\\nu}_{\\alpha\\tau}\\pi^{\\mu\\alpha}\\right) + u^{\\eta}\\left(\\Gamma^{\\mu}_{\\alpha\\eta}\\pi^{\\alpha\\nu} + \\Gamma^{\\nu}_{\\alpha\\eta}\\pi^{\\mu\\alpha}\\right) \\\\\n",
    "&=& \\partial_{\\lambda}(u^{\\lambda}\\pi^{\\mu\\nu})  + u^{\\tau}\\left(\\Gamma^{\\mu}_{\\alpha\\tau}\\pi^{\\alpha\\nu} + \\Gamma^{\\nu}_{\\alpha\\tau}\\pi^{\\mu\\alpha}\\right) + u^{\\eta}\\left(\\Gamma^{\\mu}_{\\alpha\\eta}\\pi^{\\alpha\\nu} + \\Gamma^{\\nu}_{\\alpha\\eta}\\pi^{\\mu\\alpha}\\right) - \\pi^{\\mu\\nu}\\theta + \\pi^{\\mu\\nu}\\frac{u^{\\tau}}{\\tau}\n",
    "\\end{eqnarray}\n"
   ]
  },
  {
   "cell_type": "markdown",
   "metadata": {},
   "source": [
    "Finally the IS equations are simplified to:\n",
    "\\begin{equation}\n",
    "\\partial_{\\lambda}(u^{\\lambda}\\pi^{\\mu\\nu}) =  - \\frac{\\pi^{\\mu\\nu} - \\pi_{NS}^{\\mu\\nu}}{\\tau_{\\pi}} - \\frac{1}{3}\\pi^{\\mu\\nu}\\theta - g_{\\alpha\\beta}(u^{\\nu}\\pi^{\\mu\\beta} + u^{\\mu} \\pi^{\\nu\\beta})Du^{\\alpha}  + \\pi^{\\mu\\nu}\\frac{u^{\\tau}}{\\tau} - Christ\n",
    "\\end{equation}\n",
    "\n",
    "where the Christoffel terms are,\n",
    "$Christ = u^{\\tau}\\left(\\Gamma^{\\mu}_{\\alpha\\tau}\\pi^{\\alpha\\nu} + \\Gamma^{\\nu}_{\\alpha\\tau}\\pi^{\\mu\\alpha}\\right) + u^{\\eta}\\left(\\Gamma^{\\mu}_{\\alpha\\eta}\\pi^{\\alpha\\nu} + \\Gamma^{\\nu}_{\\alpha\\eta}\\pi^{\\mu\\alpha}\\right) $."
   ]
  },
  {
   "cell_type": "markdown",
   "metadata": {},
   "source": [
    "Now we want to do some substitution with,\n",
    "\n",
    "\\begin{eqnarray}\n",
    "    \\tilde{g}^{\\mu\\nu} &=& \\tilde{g}_{\\mu\\nu} = diag(1, -1, -1, -1) \\\\\n",
    "    u^{\\mu} &=& (\\tilde{u}^{\\tau}, \\tilde{u}^{x}, \\tilde{u}^{y}, \\tilde{u}^{\\eta}/\\tau) \\\\\n",
    "    \\partial_{\\lambda} &=& (\\tilde{\\partial}_{\\tau}, \\tilde{\\partial}_{x}, \\tilde{\\partial}_{y}, \\tilde{\\partial}_{\\eta}/\\tau) \\\\\n",
    "    \\pi^{\\mu\\nu} &=& \\tilde{\\pi}^{\\mu\\nu}  \\   for\\ \\mu \\neq \\eta \\ and \\ \\nu \\neq \\eta  \\\\\n",
    "    \\pi^{\\mu\\eta} &=& \\tilde{\\pi}^{\\mu\\eta}/\\tau  \\   for\\ \\mu \\neq \\eta \\\\\n",
    "    \\pi^{\\eta\\eta} &=& \\tilde{\\pi}^{\\eta\\eta}/\\tau^2 \\\\\n",
    "\\end{eqnarray}\n",
    "\n",
    "Then we have the following unchanged forms,\n",
    "\\begin{eqnarray}\n",
    "    D &=& \\tilde{D} \\\\\n",
    "    \\theta &=& \\tilde{\\theta} \\\\\n",
    "    g_{\\alpha\\beta}(u^{\\nu}\\pi^{\\mu\\beta} + u^{\\mu} \\pi^{\\nu\\beta})Du^{\\alpha} &=& \\tilde{g}_{\\alpha\\beta}(\\tilde{u}^{\\nu}\\tilde{\\pi}^{\\mu\\beta} + \\tilde{u}^{\\mu} \\tilde{\\pi}^{\\nu\\beta})\\tilde{D}\\tilde{u}^{\\alpha}\n",
    "\\end{eqnarray}\n",
    "\n",
    "And the left hand side of IS equation reads,\n",
    "\\begin{eqnarray}\n",
    "\\partial_{\\lambda}(u^{\\lambda}\\pi^{\\mu\\nu}) &=& \\tilde{\\partial}_{\\lambda}(\\tilde{u}^{\\lambda}\\tilde{\\pi}^{\\mu\\nu}) \\ for \\ \\mu \\neq \\eta \\ and \\ \\nu \\neq \\eta \\\\\n",
    "\\partial_{\\lambda}(u^{\\lambda}\\pi^{\\mu\\eta}) &=& \\partial_{\\lambda}(u^{\\lambda}\\tilde{\\pi}^{\\mu\\eta}/\\tau) = \\frac{1}{\\tau}\\tilde{\\partial}_{\\lambda}(\\tilde{u}^{\\lambda}\\tilde{\\pi}^{\\mu\\eta}) - \\frac{\\tilde{u}^{\\tau}\\tilde{\\pi}^{\\mu\\eta}}{\\tau^2} \\ for \\ \\mu \\neq \\eta \\\\\n",
    "\\partial_{\\lambda}(u^{\\lambda}\\pi^{\\eta\\eta}) &=& \\partial_{\\lambda}(u^{\\lambda}\\tilde{\\pi}^{\\eta\\eta}/\\tau^2) = \\frac{1}{\\tau^2}\\tilde{\\partial}_{\\lambda}(\\tilde{u}^{\\lambda}\\tilde{\\pi}^{\\eta\\eta}) - \\frac{2\\tilde{u}^{\\tau}\\tilde{\\pi}^{\\eta\\eta}}{\\tau^3}  \\\\\n",
    "\\end{eqnarray}"
   ]
  },
  {
   "cell_type": "markdown",
   "metadata": {},
   "source": [
    "For the $\\pi^{\\eta\\eta}$ term we now have the IS equation, together with Christoffel terms given below,\n",
    "\n",
    "\\begin{eqnarray}\n",
    "\\frac{1}{\\tau^2}\\tilde{\\partial}_{\\lambda}(\\tilde{u}^{\\lambda}\\tilde{\\pi}^{\\eta\\eta}) - \\frac{2\\tilde{u}^{\\tau}\\tilde{\\pi}^{\\eta\\eta}}{\\tau^3} =   - \\frac{\\tilde{\\pi}^{\\eta\\eta}/\\tau^2 - \\tilde{\\pi}_{NS}^{\\eta\\eta}/\\tau^2}{\\tau_{\\pi}} - \\frac{1}{3}\\tilde{\\pi}^{\\eta\\eta}\\tilde{\\theta}/\\tau^2 - \\tilde{g}_{\\alpha\\beta}(\\tilde{u}^{\\eta}\\tilde{\\pi}^{\\eta\\beta} + \\tilde{u}^{\\eta} \\tilde{\\pi}^{\\eta\\beta})\\tilde{D}\\tilde{u}^{\\alpha} /\\tau^2 + \\tilde{\\pi}^{\\eta\\eta}/\\tau^2\\frac{\\tilde{u}^{\\tau}}{\\tau} - \\left( \\frac{2\\tilde{u}^{\\eta}\\tilde{\\pi}^{\\tau\\eta}}{\\tau^3} +\\frac{2\\tilde{u}^{\\tau}\\tilde{\\pi}^{\\eta\\eta}}{\\tau^3} \\right)\n",
    "\\end{eqnarray}\n",
    "\n",
    "After simplification, \n",
    "\\begin{eqnarray}\n",
    "\\frac{1}{\\tau^2}\\tilde{\\partial}_{\\lambda}(\\tilde{u}^{\\lambda}\\tilde{\\pi}^{\\eta\\eta}) =   - \\frac{\\tilde{\\pi}^{\\eta\\eta}/\\tau^2 - \\tilde{\\pi}_{NS}^{\\eta\\eta}/\\tau^2}{\\tau_{\\pi}} - \\frac{1}{3}\\tilde{\\pi}^{\\eta\\eta}\\tilde{\\theta}/\\tau^2 - \\tilde{g}_{\\alpha\\beta}(\\tilde{u}^{\\eta}\\tilde{\\pi}^{\\eta\\beta} + \\tilde{u}^{\\eta} \\tilde{\\pi}^{\\eta\\beta})\\tilde{D}\\tilde{u}^{\\alpha}/\\tau^2  + \\tilde{\\pi}^{\\eta\\eta}/\\tau^2\\frac{\\tilde{u}^{\\tau}}{\\tau} - \\frac{2\\tilde{u}^{\\eta}\\tilde{\\pi}^{\\tau\\eta}}{\\tau^3} \n",
    "\\end{eqnarray}\n"
   ]
  },
  {
   "cell_type": "code",
   "execution_count": 2,
   "metadata": {
    "collapsed": true
   },
   "outputs": [],
   "source": [
    "%matplotlib inline\n",
    "\n",
    "from sympy import *\n",
    "# commands starting with % are IPython commands\n",
    "from sympy import init_printing\n",
    "init_printing(use_latex=True)"
   ]
  },
  {
   "cell_type": "code",
   "execution_count": 31,
   "metadata": {
    "collapsed": false
   },
   "outputs": [],
   "source": [
    "tau = symbols('tau')\n",
    "\n",
    "pi = symarray('pi', (4, 4))\n",
    "pi[1, 0] = pi[0, 1]\n",
    "pi[2, 0] = pi[0, 2]\n",
    "pi[3, 0] = pi[0, 3]\n",
    "pi[2, 1] = pi[1, 2]\n",
    "pi[3, 1] = pi[1, 3]\n",
    "pi[3, 2] = pi[2, 3]\n",
    "#pi[0, 0] = pi[1, 1] + pi[2, 2] + pi[3, 3]*tau*tau\n",
    "\n",
    "\n",
    "# define u^{\\mu} in (tau, x, y, eta_s) coordinates\n",
    "# where u^{\\mu} = u^{\\tau}(1, v_x, v_y, v_{\\eta}/tau)\n",
    "# \\tilde{u}^{\\mu} = (u^{\\tau}, u^{x}, u^{y}, tau*u^{\\eta})\n",
    "u = symarray('u', 4)\n",
    "\n",
    "# define g^{\\mu \\nu} in (tau, x, y, eta_s) coordinates\n",
    "g = eye(4)\n",
    "g[1, 1] = -1\n",
    "g[2, 2] = -1\n",
    "g[3, 3] = -1/(tau*tau)\n",
    "\n",
    "Delta = symarray('Delta', (4,4))\n",
    "for i in range(4):\n",
    "    for j in range(4):\n",
    "        Delta[i, j] = g[i,j] - u[i]*u[j]\n",
    "\n",
    "#mu, nu, alpha, beta = symbols('mu, nu, alpha, beta')\n",
    "\n",
    "def Delta_mn_ab(mu, nu, alpha, beta):\n",
    "    return (Delta[mu, alpha]*Delta[nu, beta] + Delta[nu, alpha]*Delta[mu, beta])/2 - 1/3*Delta[mu,nu]*Delta[alpha, beta]\n"
   ]
  },
  {
   "cell_type": "code",
   "execution_count": 4,
   "metadata": {
    "collapsed": false
   },
   "outputs": [
    {
     "data": {
      "image/png": "[encoded data removed]",
      "text/latex": [
       "$$- u_{0}^{2} + 1$$"
      ],
      "text/plain": [
       "    2    \n",
       "- u₀  + 1"
      ]
     },
     "execution_count": 4,
     "metadata": {},
     "output_type": "execute_result"
    }
   ],
   "source": [
    "Delta[0,0]"
   ]
  },
  {
   "cell_type": "code",
   "execution_count": 32,
   "metadata": {
    "collapsed": false
   },
   "outputs": [],
   "source": [
    "# Christoefell symbol with Gamma^{\\eta}_{eta tau}=Gamma^{eta}{tau eta} = 1/tau, and Gamma^{tau}_{eta eta} = tau\n",
    "Gamma = symarray('Gamma', (4,4,4))\n",
    "for i in xrange(4):\n",
    "    for j in xrange(4):\n",
    "        for k in xrange(4):\n",
    "            Gamma[i,j,k] = 0\n",
    "Gamma[3,3,0] = 1/tau\n",
    "Gamma[3,0,3] = 1/tau\n",
    "Gamma[0,3,3] = tau\n",
    "#print Gamma"
   ]
  },
  {
   "cell_type": "code",
   "execution_count": 33,
   "metadata": {
    "collapsed": false
   },
   "outputs": [],
   "source": [
    "def chris_simple(mu, nu):\n",
    "    res = 0\n",
    "    for lam in xrange(4):\n",
    "        res += u[0]*(Gamma[mu, lam, 0]*pi[lam, nu] + Gamma[nu, lam, 0]*pi[mu, lam])\n",
    "        res += u[3]*(Gamma[mu, lam, 3]*pi[lam, nu] + Gamma[nu, lam, 3]*pi[mu, lam])\n",
    "    return res"
   ]
  },
  {
   "cell_type": "code",
   "execution_count": 34,
   "metadata": {
    "collapsed": false
   },
   "outputs": [
    {
     "data": {
      "image/png": "[encoded data removed]",
      "text/latex": [
       "$$\\left ( 2 \\pi_{0 3} \\tau u_{3}, \\quad \\pi_{1 3} \\tau u_{3}, \\quad \\pi_{2 3} \\tau u_{3}, \\quad \\frac{\\pi_{0 0}}{\\tau} u_{3} + \\frac{\\pi_{0 3}}{\\tau} u_{0} + \\pi_{3 3} \\tau u_{3}\\right )$$"
      ],
      "text/plain": [
       "⎛                                   π₀ ₀⋅u₃   π₀ ₃⋅u₀            ⎞\n",
       "⎜2⋅π₀ ₃⋅τ⋅u₃, π₁ ₃⋅τ⋅u₃, π₂ ₃⋅τ⋅u₃, ─────── + ─────── + π₃ ₃⋅τ⋅u₃⎟\n",
       "⎝                                      τ         τ               ⎠"
      ]
     },
     "execution_count": 34,
     "metadata": {},
     "output_type": "execute_result"
    }
   ],
   "source": [
    "chris_simple(0, 0), chris_simple(0, 1), chris_simple(0, 2), chris_simple(0, 3)"
   ]
  },
  {
   "cell_type": "code",
   "execution_count": 35,
   "metadata": {
    "collapsed": false
   },
   "outputs": [
    {
     "data": {
      "image/png": "[encoded data removed]",
      "text/latex": [
       "$$\\left ( \\pi_{1 3} \\tau u_{3}, \\quad 0, \\quad 0, \\quad \\frac{\\pi_{0 1}}{\\tau} u_{3} + \\frac{\\pi_{1 3}}{\\tau} u_{0}\\right )$$"
      ],
      "text/plain": [
       "⎛                 π₀ ₁⋅u₃   π₁ ₃⋅u₀⎞\n",
       "⎜π₁ ₃⋅τ⋅u₃, 0, 0, ─────── + ───────⎟\n",
       "⎝                    τ         τ   ⎠"
      ]
     },
     "execution_count": 35,
     "metadata": {},
     "output_type": "execute_result"
    }
   ],
   "source": [
    "chris_simple(1,0), chris_simple(1,1), chris_simple(1,2), chris_simple(1,3)"
   ]
  },
  {
   "cell_type": "code",
   "execution_count": 36,
   "metadata": {
    "collapsed": false
   },
   "outputs": [
    {
     "data": {
      "image/png": "[encoded data removed]",
      "text/latex": [
       "$$\\left ( \\pi_{2 3} \\tau u_{3}, \\quad 0, \\quad 0, \\quad \\frac{\\pi_{0 2}}{\\tau} u_{3} + \\frac{\\pi_{2 3}}{\\tau} u_{0}\\right )$$"
      ],
      "text/plain": [
       "⎛                 π₀ ₂⋅u₃   π₂ ₃⋅u₀⎞\n",
       "⎜π₂ ₃⋅τ⋅u₃, 0, 0, ─────── + ───────⎟\n",
       "⎝                    τ         τ   ⎠"
      ]
     },
     "execution_count": 36,
     "metadata": {},
     "output_type": "execute_result"
    }
   ],
   "source": [
    "chris_simple(2,0), chris_simple(2,1), chris_simple(2,2), chris_simple(2,3)"
   ]
  },
  {
   "cell_type": "code",
   "execution_count": 37,
   "metadata": {
    "collapsed": false
   },
   "outputs": [
    {
     "data": {
      "image/png": "[encoded data removed]",
      "text/latex": [
       "$$\\left ( \\frac{\\pi_{0 0}}{\\tau} u_{3} + \\frac{\\pi_{0 3}}{\\tau} u_{0} + \\pi_{3 3} \\tau u_{3}, \\quad \\frac{\\pi_{0 1}}{\\tau} u_{3} + \\frac{\\pi_{1 3}}{\\tau} u_{0}, \\quad \\frac{\\pi_{0 2}}{\\tau} u_{3} + \\frac{\\pi_{2 3}}{\\tau} u_{0}, \\quad \\frac{2 u_{3}}{\\tau} \\pi_{0 3} + \\frac{2 u_{0}}{\\tau} \\pi_{3 3}\\right )$$"
      ],
      "text/plain": [
       "⎛π₀ ₀⋅u₃   π₀ ₃⋅u₀              π₀ ₁⋅u₃   π₁ ₃⋅u₀  π₀ ₂⋅u₃   π₂ ₃⋅u₀  2⋅π₀ ₃⋅u\n",
       "⎜─────── + ─────── + π₃ ₃⋅τ⋅u₃, ─────── + ───────, ─────── + ───────, ────────\n",
       "⎝   τ         τ                    τ         τ        τ         τ         τ   \n",
       "\n",
       "₃   2⋅π₃ ₃⋅u₀⎞\n",
       "─ + ─────────⎟\n",
       "        τ    ⎠"
      ]
     },
     "execution_count": 37,
     "metadata": {},
     "output_type": "execute_result"
    }
   ],
   "source": [
    "chris_simple(3,0), chris_simple(3,1), chris_simple(3,2), chris_simple(3,3)"
   ]
  },
  {
   "cell_type": "code",
   "execution_count": null,
   "metadata": {
    "collapsed": true
   },
   "outputs": [],
   "source": []
  }
 ],
 "metadata": {
  "kernelspec": {
   "display_name": "Python 2",
   "language": "python",
   "name": "python2"
  },
  "language_info": {
   "codemirror_mode": {
    "name": "ipython",
    "version": 2
   },
   "file_extension": ".py",
   "mimetype": "text/x-python",
   "name": "python",
   "nbconvert_exporter": "python",
   "pygments_lexer": "ipython2",
   "version": "2.7.10"
  }
 },
 "nbformat": 4,
 "nbformat_minor": 0
}
